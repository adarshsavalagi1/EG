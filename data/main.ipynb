{
 "cells": [
  {
   "cell_type": "code",
   "execution_count": 1,
   "metadata": {},
   "outputs": [],
   "source": [
    "import re\n",
    "\n",
    "def tokenize_cobol_code(cobol_code):\n",
    "    # Basic tokenizer using regex (simplified for demonstration)\n",
    "    tokens = re.findall(r'\\w+|\\S', cobol_code)\n",
    "    return tokens\n"
   ]
  },
  {
   "cell_type": "code",
   "execution_count": 2,
   "metadata": {},
   "outputs": [],
   "source": [
    "class Node:\n",
    "    def __init__(self, type_, value=None):\n",
    "        self.type = type_\n",
    "        self.value = value\n",
    "        self.children = []\n",
    "\n",
    "    def add_child(self, node):\n",
    "        self.children.append(node)\n",
    "\n",
    "    def __repr__(self):\n",
    "        return f'{self.type}: {self.value} -> {self.children}'\n",
    "\n",
    "def parse_tokens(tokens):\n",
    "    root = Node(\"Program\")\n",
    "    current_node = root\n",
    "    \n",
    "    i = 0\n",
    "    while i < len(tokens):\n",
    "        token = tokens[i]\n",
    "        if token.upper() == 'IDENTIFICATION':\n",
    "            node = Node('IDENTIFICATION_DIVISION')\n",
    "            current_node.add_child(node)\n",
    "            current_node = node\n",
    "        elif token.upper() == 'PROGRAM-ID.':\n",
    "            program_id_node = Node('PROGRAM_ID', tokens[i+1])\n",
    "            current_node.add_child(program_id_node)\n",
    "            i += 1\n",
    "        elif token.upper() == 'ENVIRONMENT':\n",
    "            node = Node('ENVIRONMENT_DIVISION')\n",
    "            current_node.add_child(node)\n",
    "            current_node = node\n",
    "        elif token.upper() == 'DATA':\n",
    "            node = Node('DATA_DIVISION')\n",
    "            current_node.add_child(node)\n",
    "            current_node = node\n",
    "        elif token.upper() == 'WORKING-STORAGE':\n",
    "            node = Node('WORKING_STORAGE_SECTION')\n",
    "            current_node.add_child(node)\n",
    "            current_node = node\n",
    "        elif token.upper() == 'PROCEDURE':\n",
    "            node = Node('PROCEDURE_DIVISION')\n",
    "            current_node.add_child(node)\n",
    "            current_node = node\n",
    "        elif token.upper() in ['DISPLAY', 'STOP']:\n",
    "            node = Node('STATEMENT', token.upper())\n",
    "            current_node.add_child(node)\n",
    "        elif re.match(r\"[\\w'-]+\", token):\n",
    "            node = Node('LITERAL', token)\n",
    "            current_node.add_child(node)\n",
    "        i += 1\n",
    "\n",
    "    return root\n"
   ]
  },
  {
   "cell_type": "code",
   "execution_count": 3,
   "metadata": {},
   "outputs": [
    {
     "name": "stdout",
     "output_type": "stream",
     "text": [
      "Program: None\n",
      "  IDENTIFICATION_DIVISION: None\n",
      "    LITERAL: DIVISION\n",
      "    LITERAL: PROGRAM\n",
      "    LITERAL: -\n",
      "    LITERAL: ID\n",
      "    LITERAL: SAMPLE\n",
      "    ENVIRONMENT_DIVISION: None\n",
      "      LITERAL: DIVISION\n",
      "      DATA_DIVISION: None\n",
      "        LITERAL: DIVISION\n",
      "        LITERAL: WORKING\n",
      "        LITERAL: -\n",
      "        LITERAL: STORAGE\n",
      "        LITERAL: SECTION\n",
      "        LITERAL: 01\n",
      "        LITERAL: WS\n",
      "        LITERAL: -\n",
      "        LITERAL: NAME\n",
      "        LITERAL: PIC\n",
      "        LITERAL: X\n",
      "        LITERAL: 20\n",
      "        PROCEDURE_DIVISION: None\n",
      "          LITERAL: DIVISION\n",
      "          STATEMENT: DISPLAY\n",
      "          LITERAL: '\n",
      "          LITERAL: HELLO\n",
      "          LITERAL: WORLD\n",
      "          LITERAL: '\n",
      "          STATEMENT: STOP\n",
      "          LITERAL: RUN\n"
     ]
    }
   ],
   "source": [
    "def display_syntax_tree(node, indent=0):\n",
    "    print('  ' * indent + f'{node.type}: {node.value}')\n",
    "    for child in node.children:\n",
    "        display_syntax_tree(child, indent + 1)\n",
    "\n",
    "# Example COBOL code\n",
    "cobol_code = \"\"\"\n",
    "       IDENTIFICATION DIVISION.\n",
    "       PROGRAM-ID. SAMPLE.\n",
    "       ENVIRONMENT DIVISION.\n",
    "       DATA DIVISION.\n",
    "       WORKING-STORAGE SECTION.\n",
    "       01  WS-NAME       PIC X(20).\n",
    "       PROCEDURE DIVISION.\n",
    "           DISPLAY 'HELLO, WORLD'.\n",
    "           STOP RUN.\n",
    "\"\"\"\n",
    "\n",
    "# Tokenize and parse the COBOL code\n",
    "tokens = tokenize_cobol_code(cobol_code)\n",
    "syntax_tree = parse_tokens(tokens)\n",
    "\n",
    "# Display the syntax tree\n",
    "display_syntax_tree(syntax_tree)\n"
   ]
  },
  {
   "cell_type": "code",
   "execution_count": null,
   "metadata": {},
   "outputs": [],
   "source": [
    "class product_record:\n",
    "    def __init__(self, ):\n",
    "        pass"
   ]
  },
  {
   "cell_type": "code",
   "execution_count": 1,
   "metadata": {},
   "outputs": [],
   "source": [
    "with open('product_record.py', 'w') as file:\n",
    "    file.write(f'class product_record:\\n')\n",
    "    file.write(f'    def __init__(self, ):\\n')\n",
    "    file.write(f'        self.id=\\n')"
   ]
  }
 ],
 "metadata": {
  "kernelspec": {
   "display_name": "venv",
   "language": "python",
   "name": "python3"
  },
  "language_info": {
   "codemirror_mode": {
    "name": "ipython",
    "version": 3
   },
   "file_extension": ".py",
   "mimetype": "text/x-python",
   "name": "python",
   "nbconvert_exporter": "python",
   "pygments_lexer": "ipython3",
   "version": "3.11.3"
  }
 },
 "nbformat": 4,
 "nbformat_minor": 2
}
